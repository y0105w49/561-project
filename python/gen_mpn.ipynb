{
 "metadata": {
  "language_info": {
   "codemirror_mode": {
    "name": "ipython",
    "version": 3
   },
   "file_extension": ".py",
   "mimetype": "text/x-python",
   "name": "python",
   "nbconvert_exporter": "python",
   "pygments_lexer": "ipython3",
   "version": "3.8.1-final"
  },
  "orig_nbformat": 2,
  "kernelspec": {
   "name": "python3",
   "display_name": "Python 3"
  }
 },
 "nbformat": 4,
 "nbformat_minor": 2,
 "cells": [
  {
   "cell_type": "code",
   "execution_count": 11,
   "metadata": {},
   "outputs": [],
   "source": [
    "import random\n",
    "# variables\n",
    "MAX_MEMORY = 32 # w = 32-bit\n",
    "ERROR_TOLERANCE = 0.05"
   ]
  },
  {
   "cell_type": "code",
   "execution_count": 5,
   "metadata": {},
   "outputs": [],
   "source": [
    "def expected_CC(m,p,n):\n",
    "    ret = 0\n",
    "    for j in range(n):\n",
    "        ret += 1/(p * (m-j))\n",
    "    return ret\n",
    "\n",
    "def relative_error(T, T_q):\n",
    "    return abs(T - T_q)/T_q"
   ]
  },
  {
   "cell_type": "code",
   "execution_count": 28,
   "metadata": {},
   "outputs": [],
   "source": [
    "def find_best_config(T_q, gamma_q, p_limit=20):\n",
    "    list_inv_prob = [2**i for i in range(1,p_limit)]\n",
    "    best_config = []\n",
    "    smallest_error = float('inf')\n",
    "    for inv_prob in list_inv_prob:\n",
    "        p_q = 1/inv_prob\n",
    "        upperbound_m = int(min(MAX_MEMORY, gamma_q/p_q))\n",
    "        if upperbound_m < 1:\n",
    "            continue\n",
    "        for m_q in range(upperbound_m):\n",
    "            for n_q in range(m_q):\n",
    "                curr_expected_CC = expected_CC(m_q, p_q, n_q)\n",
    "                curr_error = relative_error(curr_expected_CC, T_q)\n",
    "                if curr_error < smallest_error:\n",
    "                    best_config = [m_q, p_q, n_q]\n",
    "                    smallest_error = curr_error\n",
    "    \n",
    "    if smallest_error > ERROR_TOLERANCE:\n",
    "        print(\"Relative error greater than 0.05\")\n",
    "    \n",
    "    return best_config"
   ]
  },
  {
   "cell_type": "code",
   "execution_count": 30,
   "metadata": {
    "tags": []
   },
   "outputs": [
    {
     "output_type": "stream",
     "name": "stdout",
     "text": [
      "0\n",
      "[30, 6.103515625e-05, 4]\n",
      "1\n",
      "[18, 0.0009765625, 13]\n",
      "2\n",
      "[21, 0.0001220703125, 12]\n",
      "3\n",
      "[20, 0.0001220703125, 14]\n",
      "4\n",
      "[22, 6.103515625e-05, 8]\n",
      "5\n",
      "[28, 0.0001220703125, 17]\n",
      "6\n",
      "[28, 3.0517578125e-05, 4]\n",
      "7\n",
      "[14, 0.0001220703125, 10]\n",
      "8\n",
      "[20, 1.52587890625e-05, 2]\n",
      "9\n",
      "[15, 0.0001220703125, 6]\n",
      "10\n",
      "[16, 0.000244140625, 15]\n",
      "11\n",
      "[27, 0.00048828125, 24]\n",
      "12\n",
      "[27, 1.52587890625e-05, 2]\n",
      "13\n",
      "[27, 0.0001220703125, 12]\n",
      "14\n",
      "[31, 0.0001220703125, 21]\n",
      "15\n",
      "[14, 0.000244140625, 9]\n",
      "16\n",
      "[18, 0.0009765625, 17]\n",
      "17\n",
      "[10, 0.0001220703125, 5]\n",
      "18\n",
      "[27, 0.00048828125, 19]\n",
      "19\n",
      "[21, 0.000244140625, 15]\n",
      "20\n",
      "[9, 0.00048828125, 4]\n",
      "21\n",
      "[7, 0.00048828125, 6]\n",
      "22\n",
      "[31, 6.103515625e-05, 5]\n",
      "23\n",
      "[16, 0.00048828125, 12]\n",
      "24\n",
      "[13, 0.000244140625, 12]\n",
      "25\n",
      "[9, 0.001953125, 4]\n",
      "26\n",
      "[31, 0.000244140625, 22]\n",
      "27\n",
      "[26, 1.52587890625e-05, 2]\n",
      "28\n",
      "[29, 0.000244140625, 14]\n",
      "29\n",
      "[21, 0.000244140625, 13]\n"
     ]
    }
   ],
   "source": [
    "list_T_q = [random.randint(1, 10000) for i in range(30)]\n",
    "number_queries = len(list_T_q)\n",
    "gamma_q = 1/number_queries\n",
    "list_best_configs = []\n",
    "for i in range(len(list_T_q)):\n",
    "    T_q = list_T_q[i]\n",
    "    print(i)\n",
    "    curr_best_config = find_best_config(T_q, gamma_q, p_limit=20)\n",
    "    list_best_configs.append(curr_best_config)\n",
    "    print(curr_best_config)"
   ]
  },
  {
   "cell_type": "code",
   "execution_count": null,
   "metadata": {},
   "outputs": [],
   "source": []
  }
 ]
}