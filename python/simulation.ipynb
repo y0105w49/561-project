{
 "metadata": {
  "language_info": {
   "codemirror_mode": {
    "name": "ipython",
    "version": 3
   },
   "file_extension": ".py",
   "mimetype": "text/x-python",
   "name": "python",
   "nbconvert_exporter": "python",
   "pygments_lexer": "ipython3",
   "version": "3.8.1-final"
  },
  "orig_nbformat": 2,
  "kernelspec": {
   "name": "python3",
   "display_name": "Python 3"
  }
 },
 "nbformat": 4,
 "nbformat_minor": 2,
 "cells": [
  {
   "source": [
    "import numpy as np"
   ],
   "cell_type": "code",
   "metadata": {},
   "execution_count": 2,
   "outputs": []
  },
  {
   "source": [
    "# Attribute\n",
    "Attribute is a class object with properties real attribute, list of queries that use attribute, and hash function"
   ],
   "cell_type": "markdown",
   "metadata": {}
  },
  {
   "cell_type": "code",
   "execution_count": null,
   "metadata": {},
   "outputs": [],
   "source": [
    "class Attribute:\n",
    "    # attr is a list which is a subset of [0,1,2,3,4]\n",
    "    def __init__(self, attr):\n",
    "        self.attr = attr\n",
    "        self.list_queries = []\n",
    "        self.hash_function = TODO\n",
    "\n",
    "    # value is the hash function output, H(attr_p)\n",
    "    def which_coupon(self, value):\n",
    "        end = 0\n",
    "        for q in self.list_queries:\n",
    "            coupon = 0\n",
    "            for i in range(q.m):\n",
    "                end += q.p\n",
    "                coupon += 1\n",
    "                if value <= end:\n",
    "                    return coupon, q\n",
    "        else: return None"
   ]
  },
  {
   "source": [
    "# Query\n",
    "Query is a class object with properties key, attribute, threshold where key and attribute are also tuples of properties e.g. ((dstIP, dstPort), (srcIP, srcPort))"
   ],
   "cell_type": "markdown",
   "metadata": {}
  },
  {
   "cell_type": "code",
   "execution_count": 2,
   "metadata": {},
   "outputs": [],
   "source": [
    "class Query:\n",
    "    all_queries = []\n",
    "    def __init__(self, key, Attr, threshold, m, n, p):\n",
    "        self.key = key\n",
    "        self.attr = Attr\n",
    "        self.T = threshold\n",
    "        self.m = m\n",
    "        self.p = p\n",
    "        self.n = n\n",
    "        self.all_queries.append(self)\n",
    "        Attr.append(self)"
   ]
  },
  {
   "source": [
    "# Packet\n",
    "Packet is a class object with properties srcIP, dstIP, srcPort, dstPort, and timestamp.\n",
    "Packet also has function \n",
    "(1) to extract the (key, attribute) given a query\n",
    "(2) collect coupons they get + pick at most one"
   ],
   "cell_type": "markdown",
   "metadata": {}
  },
  {
   "cell_type": "code",
   "execution_count": null,
   "metadata": {},
   "outputs": [],
   "source": [
    "class Packet:\n",
    "    # def __init__(self, srcIP, dstIP, srcPort, dstPort, timestamp):\n",
    "    #     self.srcIP = srcIP\n",
    "    #     self.dstIP = dstIP\n",
    "    #     self.srcPort = srcPort\n",
    "    #     self.dstPort = dstPort\n",
    "    #     self.timestamp = timestamp\n",
    "\n",
    "    # config includes [srcIP, dstIP, srcPort, dstPort, timestamp]\n",
    "    def __init__(self, config):\n",
    "        self.config = config\n",
    "\n",
    "    def extract(self, query):\n",
    "        key = query.key\n",
    "        attr = query.attr\n",
    "        TODO\n",
    "    \n",
    "    # it repeats the computation for all queries that use the same attribute (repeat which_coupon)\n",
    "    def collect_coupon(self, query):\n",
    "        curr_key, curr_attr = self.extract(query)\n",
    "        Attr = query.attr\n",
    "        hash_function = Attr.hash_function\n",
    "        value = hash_function(curr_attr)\n",
    "        ind_coupon, chosen_query = Attr.which_coupon(value)\n",
    "        if chosen_query == query:\n",
    "            coupon = 2**(ind_coupon - 1)\n",
    "            timestamp = TODO\n",
    "            checksum = TODO\n",
    "            return (query, curr_key, coupon, timestamp, checksum)\n",
    "\n",
    "        "
   ]
  },
  {
   "source": [
    "# Coupon-Collector Table\n",
    "Coupon-Collector table is a tuple to keep track the number of collected coupon for each (query, key).\n",
    "Each element is ((query, key), bit_vector) where bit_vector has length m_q and is updated by bit-wise or."
   ],
   "cell_type": "markdown",
   "metadata": {}
  },
  {
   "cell_type": "code",
   "execution_count": null,
   "metadata": {},
   "outputs": [],
   "source": [
    "class CCTable:\n",
    "    def __init__(self):\n",
    "        self.table = []\n",
    "        self.row = []\n",
    "        self.timestamp = []\n",
    "        self.checksum = []\n",
    "\n",
    "    # coupon is an m-bit number\n",
    "    def check_threshold(query, coupon):\n",
    "        count = 0\n",
    "        while (coupon): \n",
    "            count += coupon & 1\n",
    "            coupon >>= 1\n",
    "        if count >= query.n:\n",
    "            return True\n",
    "        else: return False\n",
    "    \n",
    "    # add (query, key) to the table\n",
    "    def add_query_key(self, (query, key, coupon, timestamp, checksum)):\n",
    "        # if there is already (query, key)\n",
    "        if (query, key) in self.row:\n",
    "            ind = self.row.index((query, key))\n",
    "            curr_row = self.table[ind]\n",
    "            curr_row[1] = curr_row[1] | coupon\n",
    "            if check_threshold(query, curr_row[1]):\n",
    "                print((query, key))\n",
    "            self.timestamp[ind] = timestamp\n",
    "            self.checksum[ind] = checksum\n",
    "\n",
    "        # if there is no (query, key) before\n",
    "        else:\n",
    "            self.table.append((query, key), coupon)\n",
    "            self.row.append((query, key))\n",
    "            self.timestamp.append(timestamp)\n",
    "            self.checksum.append(checksum)\n"
   ]
  },
  {
   "source": [
    "# Main"
   ],
   "cell_type": "markdown",
   "metadata": {}
  },
  {
   "cell_type": "code",
   "execution_count": null,
   "metadata": {},
   "outputs": [],
   "source": []
  },
  {
   "cell_type": "code",
   "execution_count": null,
   "metadata": {},
   "outputs": [],
   "source": []
  },
  {
   "cell_type": "code",
   "execution_count": null,
   "metadata": {},
   "outputs": [],
   "source": []
  }
 ]
}